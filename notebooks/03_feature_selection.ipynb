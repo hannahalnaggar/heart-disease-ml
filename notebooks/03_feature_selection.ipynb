{
 "cells": [
  {
   "cell_type": "code",
   "execution_count": 1,
   "id": "db35c35d",
   "metadata": {},
   "outputs": [],
   "source": [
    "import pandas as pd\n",
    "import numpy as np\n",
    "import matplotlib.pyplot as plt\n",
    "import seaborn as sns\n",
    "\n",
    "from sklearn.model_selection import train_test_split\n",
    "from sklearn.preprocessing import StandardScaler, MinMaxScaler\n",
    "from sklearn.ensemble import RandomForestClassifier\n",
    "from sklearn.feature_selection import RFE, SelectKBest, chi2\n",
    "from sklearn.linear_model import LogisticRegression\n"
   ]
  },
  {
   "cell_type": "code",
   "execution_count": 3,
   "id": "d439473f",
   "metadata": {},
   "outputs": [
    {
     "data": {
      "text/html": [
       "<div>\n",
       "<style scoped>\n",
       "    .dataframe tbody tr th:only-of-type {\n",
       "        vertical-align: middle;\n",
       "    }\n",
       "\n",
       "    .dataframe tbody tr th {\n",
       "        vertical-align: top;\n",
       "    }\n",
       "\n",
       "    .dataframe thead th {\n",
       "        text-align: right;\n",
       "    }\n",
       "</style>\n",
       "<table border=\"1\" class=\"dataframe\">\n",
       "  <thead>\n",
       "    <tr style=\"text-align: right;\">\n",
       "      <th></th>\n",
       "      <th>PC1</th>\n",
       "      <th>PC2</th>\n",
       "      <th>PC3</th>\n",
       "      <th>PC4</th>\n",
       "      <th>PC5</th>\n",
       "      <th>sex_0</th>\n",
       "      <th>sex_1</th>\n",
       "      <th>cp_0</th>\n",
       "      <th>cp_1</th>\n",
       "      <th>cp_2</th>\n",
       "      <th>...</th>\n",
       "      <th>slope_1</th>\n",
       "      <th>slope_2</th>\n",
       "      <th>ca_0</th>\n",
       "      <th>ca_1</th>\n",
       "      <th>ca_2</th>\n",
       "      <th>ca_3</th>\n",
       "      <th>thal_0</th>\n",
       "      <th>thal_1</th>\n",
       "      <th>thal_2</th>\n",
       "      <th>target</th>\n",
       "    </tr>\n",
       "  </thead>\n",
       "  <tbody>\n",
       "    <tr>\n",
       "      <th>0</th>\n",
       "      <td>1.496685</td>\n",
       "      <td>0.577233</td>\n",
       "      <td>0.554208</td>\n",
       "      <td>-1.876531</td>\n",
       "      <td>-0.326541</td>\n",
       "      <td>0.0</td>\n",
       "      <td>1.0</td>\n",
       "      <td>1.0</td>\n",
       "      <td>0.0</td>\n",
       "      <td>0.0</td>\n",
       "      <td>...</td>\n",
       "      <td>1.0</td>\n",
       "      <td>0.0</td>\n",
       "      <td>0.0</td>\n",
       "      <td>1.0</td>\n",
       "      <td>0.0</td>\n",
       "      <td>0.0</td>\n",
       "      <td>1.0</td>\n",
       "      <td>0.0</td>\n",
       "      <td>0.0</td>\n",
       "      <td>0</td>\n",
       "    </tr>\n",
       "    <tr>\n",
       "      <th>1</th>\n",
       "      <td>1.318520</td>\n",
       "      <td>0.099295</td>\n",
       "      <td>0.295348</td>\n",
       "      <td>-0.495299</td>\n",
       "      <td>1.066778</td>\n",
       "      <td>1.0</td>\n",
       "      <td>0.0</td>\n",
       "      <td>1.0</td>\n",
       "      <td>0.0</td>\n",
       "      <td>0.0</td>\n",
       "      <td>...</td>\n",
       "      <td>0.0</td>\n",
       "      <td>0.0</td>\n",
       "      <td>0.0</td>\n",
       "      <td>0.0</td>\n",
       "      <td>1.0</td>\n",
       "      <td>0.0</td>\n",
       "      <td>1.0</td>\n",
       "      <td>0.0</td>\n",
       "      <td>0.0</td>\n",
       "      <td>0</td>\n",
       "    </tr>\n",
       "    <tr>\n",
       "      <th>2</th>\n",
       "      <td>2.431917</td>\n",
       "      <td>-0.863635</td>\n",
       "      <td>0.533078</td>\n",
       "      <td>-0.264528</td>\n",
       "      <td>-0.071844</td>\n",
       "      <td>1.0</td>\n",
       "      <td>0.0</td>\n",
       "      <td>1.0</td>\n",
       "      <td>0.0</td>\n",
       "      <td>0.0</td>\n",
       "      <td>...</td>\n",
       "      <td>0.0</td>\n",
       "      <td>1.0</td>\n",
       "      <td>1.0</td>\n",
       "      <td>0.0</td>\n",
       "      <td>0.0</td>\n",
       "      <td>0.0</td>\n",
       "      <td>1.0</td>\n",
       "      <td>0.0</td>\n",
       "      <td>0.0</td>\n",
       "      <td>0</td>\n",
       "    </tr>\n",
       "    <tr>\n",
       "      <th>3</th>\n",
       "      <td>0.544862</td>\n",
       "      <td>1.156245</td>\n",
       "      <td>0.110919</td>\n",
       "      <td>0.002982</td>\n",
       "      <td>1.220034</td>\n",
       "      <td>0.0</td>\n",
       "      <td>1.0</td>\n",
       "      <td>1.0</td>\n",
       "      <td>0.0</td>\n",
       "      <td>0.0</td>\n",
       "      <td>...</td>\n",
       "      <td>1.0</td>\n",
       "      <td>0.0</td>\n",
       "      <td>0.0</td>\n",
       "      <td>1.0</td>\n",
       "      <td>0.0</td>\n",
       "      <td>0.0</td>\n",
       "      <td>1.0</td>\n",
       "      <td>0.0</td>\n",
       "      <td>0.0</td>\n",
       "      <td>1</td>\n",
       "    </tr>\n",
       "    <tr>\n",
       "      <th>4</th>\n",
       "      <td>0.379464</td>\n",
       "      <td>-1.195003</td>\n",
       "      <td>-0.658786</td>\n",
       "      <td>-0.245751</td>\n",
       "      <td>1.218672</td>\n",
       "      <td>0.0</td>\n",
       "      <td>1.0</td>\n",
       "      <td>1.0</td>\n",
       "      <td>0.0</td>\n",
       "      <td>0.0</td>\n",
       "      <td>...</td>\n",
       "      <td>1.0</td>\n",
       "      <td>0.0</td>\n",
       "      <td>1.0</td>\n",
       "      <td>0.0</td>\n",
       "      <td>0.0</td>\n",
       "      <td>0.0</td>\n",
       "      <td>1.0</td>\n",
       "      <td>0.0</td>\n",
       "      <td>0.0</td>\n",
       "      <td>0</td>\n",
       "    </tr>\n",
       "  </tbody>\n",
       "</table>\n",
       "<p>5 rows × 29 columns</p>\n",
       "</div>"
      ],
      "text/plain": [
       "        PC1       PC2       PC3       PC4       PC5  sex_0  sex_1  cp_0  cp_1  \\\n",
       "0  1.496685  0.577233  0.554208 -1.876531 -0.326541    0.0    1.0   1.0   0.0   \n",
       "1  1.318520  0.099295  0.295348 -0.495299  1.066778    1.0    0.0   1.0   0.0   \n",
       "2  2.431917 -0.863635  0.533078 -0.264528 -0.071844    1.0    0.0   1.0   0.0   \n",
       "3  0.544862  1.156245  0.110919  0.002982  1.220034    0.0    1.0   1.0   0.0   \n",
       "4  0.379464 -1.195003 -0.658786 -0.245751  1.218672    0.0    1.0   1.0   0.0   \n",
       "\n",
       "   cp_2  ...  slope_1  slope_2  ca_0  ca_1  ca_2  ca_3  thal_0  thal_1  \\\n",
       "0   0.0  ...      1.0      0.0   0.0   1.0   0.0   0.0     1.0     0.0   \n",
       "1   0.0  ...      0.0      0.0   0.0   0.0   1.0   0.0     1.0     0.0   \n",
       "2   0.0  ...      0.0      1.0   1.0   0.0   0.0   0.0     1.0     0.0   \n",
       "3   0.0  ...      1.0      0.0   0.0   1.0   0.0   0.0     1.0     0.0   \n",
       "4   0.0  ...      1.0      0.0   1.0   0.0   0.0   0.0     1.0     0.0   \n",
       "\n",
       "   thal_2  target  \n",
       "0     0.0       0  \n",
       "1     0.0       0  \n",
       "2     0.0       0  \n",
       "3     0.0       1  \n",
       "4     0.0       0  \n",
       "\n",
       "[5 rows x 29 columns]"
      ]
     },
     "execution_count": 3,
     "metadata": {},
     "output_type": "execute_result"
    }
   ],
   "source": [
    "df = pd.read_csv(r\"C:\\Users\\hannah\\Downloads\\archive (2)\\heart_disease.csv\")\n",
    "\n",
    "if \"num\" in df.columns:\n",
    "    df.rename(columns={\"num\":\"target\"}, inplace=True)\n",
    "df[\"target\"] = (df[\"target\"] > 0).astype(int)\n",
    "\n",
    "df.head()\n"
   ]
  },
  {
   "cell_type": "code",
   "execution_count": 4,
   "id": "e9448c47",
   "metadata": {},
   "outputs": [],
   "source": [
    "X = df.drop(columns=[\"target\"])\n",
    "y = df[\"target\"]\n"
   ]
  },
  {
   "cell_type": "code",
   "execution_count": 5,
   "id": "cd716cb9",
   "metadata": {},
   "outputs": [
    {
     "data": {
      "image/png": "[encoded data removed]",
      "text/plain": [
       "<Figure size 800x600 with 1 Axes>"
      ]
     },
     "metadata": {},
     "output_type": "display_data"
    },
    {
     "name": "stdout",
     "output_type": "stream",
     "text": [
      "Top features:\n",
      " PC1       0.121554\n",
      "ca_0      0.083396\n",
      "PC5       0.081026\n",
      "thal_2    0.079433\n",
      "thal_0    0.077089\n",
      "cp_3      0.069407\n",
      "PC2       0.068953\n",
      "PC4       0.064353\n",
      "dtype: float64\n"
     ]
    }
   ],
   "source": [
    "rf = RandomForestClassifier(random_state=42)\n",
    "rf.fit(X, y)\n",
    "\n",
    "importances = pd.Series(rf.feature_importances_, index=X.columns)\n",
    "importances.sort_values().plot(kind=\"barh\", figsize=(8,6))\n",
    "plt.title(\"Feature Importance (Random Forest)\")\n",
    "plt.show()\n",
    "\n",
    "print(\"Top features:\\n\", importances.sort_values(ascending=False).head(8))\n"
   ]
  },
  {
   "cell_type": "code",
   "execution_count": 6,
   "id": "88c574de",
   "metadata": {},
   "outputs": [
    {
     "name": "stdout",
     "output_type": "stream",
     "text": [
      "Selected by RFE: ['sex_0', 'sex_1', 'cp_3', 'exang_1', 'slope_0', 'ca_0', 'ca_2', 'thal_2']\n"
     ]
    }
   ],
   "source": [
    "model = LogisticRegression(max_iter=500)\n",
    "rfe = RFE(model, n_features_to_select=8)\n",
    "rfe.fit(X, y)\n",
    "\n",
    "rfe_features = X.columns[rfe.support_]\n",
    "print(\"Selected by RFE:\", list(rfe_features))\n"
   ]
  },
  {
   "cell_type": "code",
   "execution_count": 7,
   "id": "2a3477ed",
   "metadata": {},
   "outputs": [
    {
     "name": "stdout",
     "output_type": "stream",
     "text": [
      "Selected by Chi-Square: ['cp_2', 'cp_3', 'exang_1', 'slope_0', 'slope_1', 'ca_0', 'thal_0', 'thal_2']\n"
     ]
    }
   ],
   "source": [
    "X_scaled = MinMaxScaler().fit_transform(X)\n",
    "chi2_selector = SelectKBest(score_func=chi2, k=8)\n",
    "chi2_selector.fit(X_scaled, y)\n",
    "chi2_features = X.columns[chi2_selector.get_support()]\n",
    "print(\"Selected by Chi-Square:\", list(chi2_features))\n"
   ]
  },
  {
   "cell_type": "code",
   "execution_count": 9,
   "id": "06bec0b9",
   "metadata": {},
   "outputs": [
    {
     "name": "stdout",
     "output_type": "stream",
     "text": [
      "Final selected features: {'sex_1', 'thal_0', 'ca_2', 'thal_2', 'ca_0', 'slope_1', 'cp_2', 'slope_0', 'exang_1', 'sex_0', 'cp_3'}\n",
      "✅ Saved selected features dataset.\n"
     ]
    }
   ],
   "source": [
    "selected = set(rfe_features) | set(chi2_features)\n",
    "print(\"Final selected features:\", selected)\n",
    "\n",
    "df_selected = df[list(selected) + [\"target\"]]\n",
    "df_selected.to_csv(r\"C:\\Users\\hannah\\Downloads\\archive (2)\\heart_disease.csv\", index=False)\n",
    "print(\"✅ Saved selected features dataset.\")\n"
   ]
  },
  {
   "cell_type": "code",
   "execution_count": 11,
   "id": "59d7f16b",
   "metadata": {},
   "outputs": [
    {
     "name": "stdout",
     "output_type": "stream",
     "text": [
      "Final selected features: {'sex_1', 'thal_0', 'ca_2', 'thal_2', 'ca_0', 'slope_1', 'cp_2', 'slope_0', 'exang_1', 'sex_0', 'cp_3'}\n",
      "✅ Saved selected features dataset.\n"
     ]
    }
   ],
   "source": [
    "selected = set(rfe_features) | set(chi2_features)\n",
    "print(\"Final selected features:\", selected)\n",
    "\n",
    "df_selected = df[list(selected) + [\"target\"]]\n",
    "df_selected.to_csv(r\"C:\\Users\\hannah\\Downloads\\archive (2)\\heart_disease.csv\", index=False)\n",
    "print(\"✅ Saved selected features dataset.\")\n"
   ]
  },
  {
   "cell_type": "code",
   "execution_count": null,
   "id": "b4700a51",
   "metadata": {},
   "outputs": [],
   "source": []
  }
 ],
 "metadata": {
  "kernelspec": {
   "display_name": "base",
   "language": "python",
   "name": "python3"
  },
  "language_info": {
   "codemirror_mode": {
    "name": "ipython",
    "version": 3
   },
   "file_extension": ".py",
   "mimetype": "text/x-python",
   "name": "python",
   "nbconvert_exporter": "python",
   "pygments_lexer": "ipython3",
   "version": "3.13.5"
  }
 },
 "nbformat": 4,
 "nbformat_minor": 5
}
